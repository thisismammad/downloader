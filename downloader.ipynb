{
  "nbformat": 4,
  "nbformat_minor": 0,
  "metadata": {
    "colab": {
      "name": "downloader.ipynb",
      "provenance": [],
      "collapsed_sections": []
    },
    "kernelspec": {
      "display_name": "Python 3",
      "name": "python3"
    },
    "language_info": {
      "name": "python"
    }
  },
  "cells": [
    {
      "cell_type": "code",
      "metadata": {
        "id": "KB2kBZw3po3-"
      },
      "source": [
        "from google.colab import drive\n",
        "drive.mount('/content/drive')"
      ],
      "execution_count": null,
      "outputs": []
    },
    {
      "cell_type": "code",
      "metadata": {
        "id": "s3tm6dbrGVL7"
      },
      "source": [
        "url = input('Enter URL:\\n')"
      ],
      "execution_count": null,
      "outputs": []
    },
    {
      "cell_type": "code",
      "metadata": {
        "id": "rJ5ys7vZGNGe"
      },
      "source": [
        "import requests\n",
        "import time\n",
        "import os\n",
        "r = requests.get(url,stream=True)\n",
        "name = url.split('/')\n",
        "file_name = name[-1].replace(\"%20\" , \" \")\n",
        "total_size_in_bytes= int(r.headers.get('content-length', 0))\n",
        "\n",
        "if not total_size_in_bytes:\n",
        "  print(\"ERROR, something went wrong\")\n",
        "else:\n",
        "  start = time.time()\n",
        "  total_size = 0\n",
        "  path = \"/content/drive/My Drive/Movies/\"\n",
        "\n",
        "  print(\"File Name = %s\" %(file_name))\n",
        "  if total_size_in_bytes/1000 < 1000:\n",
        "    print(\"Total File Size = %d KB \\n\" %(int(total_size_in_bytes/1024)))\n",
        "  else:\n",
        "    print(\"Total File Size = %.2f MB \\n\" %(total_size_in_bytes/(1024*1024)))\n",
        "\n",
        "  print(\"Starting download %s ...\" %(file_name))\n",
        "  i=0\n",
        "  if os.path.exists(path+file_name):\n",
        "    split_name = file_name.split('.')\n",
        "    last_name_part = split_name[-2]\n",
        "    while os.path.exists(path+file_name):\n",
        "      i+=1\n",
        "      split_name = file_name.split('.')\n",
        "      split_name[-2] = last_name_part + f\"({i})\"\n",
        "      file_name = '.'.join(split_name)\n",
        "\n",
        "\n",
        "  with open(path+ file_name, \"wb\") as file:\n",
        "\n",
        "    tic = time.perf_counter()\n",
        "    \n",
        "    for block in r.iter_content(chunk_size = 1024):\n",
        "      if block:\n",
        "        file.write(block)\n",
        "        total_size += len(block)\n",
        "        done = (100 * total_size / total_size_in_bytes)\n",
        "        \n",
        "        toc = time.perf_counter()\n",
        "        if toc - tic >= 5:\n",
        "          tic = toc\n",
        "          print('%.2f%% Complete , Download Speed %.1f kb/s' % (done ,(total_size/(time.time() - start))/1024))  \n",
        "    \n",
        "\n",
        "    if total_size_in_bytes != 0 and total_size != total_size_in_bytes:\n",
        "      print(\"ERROR, something went wrong\")\n",
        "    else:\n",
        "      print(\"Download Compelete Time Elapsed: %d Minutes and %d Seconds \\n\" % (int((time.time()-start)//60), int((time.time()-start)%60)))\n"
      ],
      "execution_count": null,
      "outputs": []
    }
  ]
}