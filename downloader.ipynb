{
  "nbformat": 4,
  "nbformat_minor": 0,
  "metadata": {
    "colab": {
      "name": "downloader.ipynb",
      "provenance": [],
      "collapsed_sections": []
    },
    "kernelspec": {
      "name": "python3",
      "display_name": "Python 3"
    },
    "language_info": {
      "name": "python"
    }
  },
  "cells": [
    {
      "cell_type": "code",
      "metadata": {
        "id": "KB2kBZw3po3-"
      },
      "source": [
        "from google.colab import drive\n",
        "drive.mount('/content/drive')"
      ],
      "execution_count": null,
      "outputs": []
    },
    {
      "cell_type": "code",
      "metadata": {
        "id": "s3tm6dbrGVL7"
      },
      "source": [
        "url = input('Enter URL:\\n')"
      ],
      "execution_count": null,
      "outputs": []
    },
    {
      "cell_type": "code",
      "metadata": {
        "id": "rJ5ys7vZGNGe"
      },
      "source": [
        "import requests\n",
        "import time\n",
        "import os\n",
        "r = requests.get(url,stream=True)\n",
        "name = url.split('/')\n",
        "file_name = name[-1].replace(\"%20\" , \" \")\n",
        "total_size_in_bytes= int(r.headers.get('content-length', 0))\n",
        "start = time.process_time()\n",
        "total_size = 0\n",
        "path = \"/content/drive/My Drive/Movies/\"\n",
        "\n",
        "print(\"File Name = %s\" %(file_name))\n",
        "print(\"File Size = %d kb \\n\" %(int(total_size_in_bytes/1000)))\n",
        "print(\"Starting download %s ...\" %(file_name))\n",
        "i=0\n",
        "if os.path.exists(path+file_name):\n",
        "  split_name = file_name.split('.')\n",
        "  split_name.insert(-1,\"-copy\")\n",
        "  file_name = '.'.join(split_name)\n",
        "  while os.path.exists(path+file_name):\n",
        "    i+=1\n",
        "    split_name = file_name.split('.')\n",
        "    split_name[-2] = f\"-copy({i})\"\n",
        "    file_name = '.'.join(split_name)\n",
        "\n",
        "\n",
        "with open(path+ file_name, \"wb\") as file:\n",
        "\n",
        "  tic = time.perf_counter()\n",
        "  \n",
        "  for block in r.iter_content(chunk_size = 1024):\n",
        "    if block:\n",
        "      file.write(block)\n",
        "      total_size += len(block)\n",
        "      done = (100 * total_size / total_size_in_bytes)\n",
        "      \n",
        "      toc = time.perf_counter()\n",
        "      if toc - tic >= 5:\n",
        "        tic = toc\n",
        "        print('%.2f%% Complete , Download Speed %.1f kb/s' % (done ,(total_size/(time.process_time() - start))/1000))  \n",
        "  \n",
        "\n",
        "  if total_size_in_bytes != 0 and total_size != total_size_in_bytes:\n",
        "    print(\"ERROR, something went wrong\")\n",
        "  else:\n",
        "    print(\"Download Compelete Time Elapsed: %.2f Seconds \\n\" % (time.process_time()-start))\n"
      ],
      "execution_count": null,
      "outputs": []
    }
  ]
}